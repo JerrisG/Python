{
 "cells": [
  {
   "cell_type": "markdown",
   "id": "c4e7debb-06e8-4028-9d96-1b711b6af89f",
   "metadata": {},
   "source": [
    "# **Python to MS SQL Server Code**\n",
    "### Created by Jerris George\n",
    "### This is some code created to create a new database on my local MS SQL Server, Create a new Database, Populate Database, and Query Database"
   ]
  },
  {
   "cell_type": "code",
   "execution_count": null,
   "id": "58d9cec5-b68d-4ddc-9f86-6ed3e4029a43",
   "metadata": {},
   "outputs": [],
   "source": [
    "# install pyodbc odbc library used to connect to MS SQL Server\n",
    "!pip install pyodbc"
   ]
  },
  {
   "cell_type": "code",
   "execution_count": 26,
   "id": "3bf3435d-9e9b-44b8-9f04-7cde38c6098b",
   "metadata": {},
   "outputs": [],
   "source": [
    "# import libraries. Note: some librarys like pandas will be used later for data manipulation.\n",
    "import pyodbc\n",
    "import pandas as pd"
   ]
  },
  {
   "cell_type": "code",
   "execution_count": 27,
   "id": "c6843ff3-1205-4221-a623-8cd3c1a2281f",
   "metadata": {},
   "outputs": [
    {
     "name": "stdout",
     "output_type": "stream",
     "text": [
      "['SQL Server', 'PostgreSQL ANSI(x64)', 'PostgreSQL Unicode(x64)', 'SQL Server Native Client 11.0', 'ODBC Driver 17 for SQL Server', 'SQL Server Native Client RDA 11.0', 'Microsoft Access Driver (*.mdb, *.accdb)', 'Microsoft Excel Driver (*.xls, *.xlsx, *.xlsm, *.xlsb)', 'Microsoft Access Text Driver (*.txt, *.csv)']\n"
     ]
    }
   ],
   "source": [
    "# check for drivers which are supported\n",
    "print(pyodbc.drivers())"
   ]
  },
  {
   "cell_type": "code",
   "execution_count": 38,
   "id": "61870799-47ba-4a31-ba93-3dbcebf23e48",
   "metadata": {},
   "outputs": [],
   "source": [
    "# create connection to SQL server\n",
    "connection = pyodbc.connect(driver='{ODBC Driver 17 for SQL Server}',\n",
    "                            server='9JCO9AE-PC\\SQLEXPRESS',\n",
    "                              trusted_connection='yes', \n",
    "                            autocommit='True')\n",
    "cursor = connection.cursor()"
   ]
  },
  {
   "cell_type": "code",
   "execution_count": null,
   "id": "6b86ff08-9bbb-4071-acd2-4d09f2819b95",
   "metadata": {},
   "outputs": [],
   "source": [
    "# command needed to create database\n",
    "cursor.execute('CREATE DATABASE test_db')"
   ]
  },
  {
   "cell_type": "code",
   "execution_count": 29,
   "id": "0073aaee-1c58-4677-ac7a-1599669d669a",
   "metadata": {},
   "outputs": [],
   "source": [
    "# create table\n",
    "cursor = connection.cursor()\n",
    "cursor.execute('''CREATE TABLE test_db.dbo.products (\n",
    "            product_id int primary key,\n",
    "            product_name nvarchar(50),\n",
    "            price int\n",
    "            )\n",
    "               ''')\n",
    "connection.commit()"
   ]
  },
  {
   "cell_type": "code",
   "execution_count": null,
   "id": "2269c848-0a72-4df8-932e-c0fdf815df76",
   "metadata": {},
   "outputs": [],
   "source": [
    "#populate table with dummy values\n",
    "cursor.execute('''INSERT INTO test_db.dbo.products (product_id, product_name, price)\n",
    "            VALUES (100,'HP Laptop',630),\n",
    "            (200,'TCL LED TV',400),\n",
    "            (300,'Samsung Buds2',150),\n",
    "            (400,'Dyson V12 Cordless',650),\n",
    "            (500,'Phillips Hue Bulbs',115)\n",
    "                ''')\n",
    "connection.commit()"
   ]
  },
  {
   "cell_type": "code",
   "execution_count": 41,
   "id": "ce160d38-e851-4f3e-8ee5-e2b837de5f3d",
   "metadata": {},
   "outputs": [
    {
     "name": "stdout",
     "output_type": "stream",
     "text": [
      "5 was inserted.\n"
     ]
    }
   ],
   "source": [
    "# check status of entered values \n",
    "print(cursor.rowcount, \"was inserted.\")"
   ]
  },
  {
   "cell_type": "code",
   "execution_count": 45,
   "id": "7328dbfa-0786-4f97-9e95-5ed7116b232e",
   "metadata": {},
   "outputs": [
    {
     "name": "stdout",
     "output_type": "stream",
     "text": [
      "(100, 'HP Laptop', 630)\n",
      "(200, 'TCL LED TV', 400)\n",
      "(300, 'Samsung Buds2', 150)\n",
      "(400, 'Dyson V12 Cordless', 650)\n",
      "(500, 'Phillips Hue Bulbs', 115)\n"
     ]
    }
   ],
   "source": [
    "# query results from newly created table\n",
    "cursor.execute('SELECT * FROM test_db.dbo.products')\n",
    "\n",
    "results = cursor.fetchall()\n",
    "\n",
    "for i in results:\n",
    "  print(i)"
   ]
  },
  {
   "cell_type": "code",
   "execution_count": null,
   "id": "a5fe43bb-8ff7-44a5-bb1e-2cf23e3dc422",
   "metadata": {},
   "outputs": [],
   "source": [
    "# close connection\n",
    "connection.close()"
   ]
  }
 ],
 "metadata": {
  "kernelspec": {
   "display_name": "Python 3 (ipykernel)",
   "language": "python",
   "name": "python3"
  },
  "language_info": {
   "codemirror_mode": {
    "name": "ipython",
    "version": 3
   },
   "file_extension": ".py",
   "mimetype": "text/x-python",
   "name": "python",
   "nbconvert_exporter": "python",
   "pygments_lexer": "ipython3",
   "version": "3.9.7"
  }
 },
 "nbformat": 4,
 "nbformat_minor": 5
}
