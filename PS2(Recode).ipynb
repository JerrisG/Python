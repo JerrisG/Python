{
 "cells": [
  {
   "cell_type": "markdown",
   "metadata": {},
   "source": [
    "# Problem Set 2\n",
    "\n",
    "Name: Jerris George\n",
    "\n",
    "### Introduction\n",
    "You are a data scientist working for the government. You want to understand the public opinion regarding hurricane Maria which is responsible for killing at least 499 people in Puerto Rico. Total losses are estimated at $94.4 billion dollars which accrued to government agencies, businesses, and more importantly, familes [1]. With this background, whether you are a politician, bussiness person, or one effected by the hurricane, understanding the sentiment of the general populace is important. For this assigment, you will use a subset of the tweets retrieved from Twitter that mentioned #PuertoRico over the period of October 4 to November 7, 2017 [2] to measure the sentiment (i.e., the \"good\" or \"bad\" opinions people have about the hurricane and its impact) of this event.\n",
    "\n",
    "For this task, we will write code for a lexicon-based analysis (i.e., lexicon-based classification). Lexicon-based classification is a way to categorize text based using manually generated lists of topical words. Essentially, we just need to check if the topical words appear in a piece of text (e.g., a tweet). In this exercise we will make use of manually curated sentiment words. However, the basic experimental process is the same for other tasks (e.g., identifying offensive language).\n",
    "\n",
    "If you are interested, though it is not needed, you can learn more about lexicon-based classification in Chapter 21 (21.2 and 21.6) of the free online book at the following link: [Speech and Language Processing](https://web.stanford.edu/~jurafsky/slp3/21.pdf)\n",
    "\n",
    "### References\n",
    "[1]  Spalding, Rebecca (November 13, 2017). \"Puerto Rico Seeks $94 Billion in Federal Aid for Hurricane Recovery\". Bloomberg News. Retrieved December 15, 2017.\n",
    "\n",
    "[2]  site: https://archive.org/details/puertorico-tweets"
   ]
  },
  {
   "cell_type": "markdown",
   "metadata": {},
   "source": [
    "# Exercise 1\n",
    "\n",
    "The files \"positive_words.txt\" and \"negative_words.txt\" contain mannually curated positive (e.g., good, great, awesome) and negative words (e.g., bad, hate, terrible). The files contain one word on each line. Write a function that takes the open file (i.e., the file handle) and adds the words (i.e., on each line) to a set then returns the set.\n",
    "\n",
    "**Note:** You should use \".strip()\" to remove the newline character from the end of each word. "
   ]
  },
  {
   "cell_type": "code",
   "execution_count": 1,
   "metadata": {},
   "outputs": [],
   "source": [
    "# Write code here\n",
    "def file_to_set(file):\n",
    "    \"\"\"\n",
    "    This function should take a file handler as input and return a set.\n",
    "    \n",
    "        Parameters:\n",
    "            - file file handle: This variable is a file handle\n",
    "            \n",
    "        Return:\n",
    "            - The file should return a set (e.g., {'good', 'great', 'happy'})\n",
    "    \"\"\"\n",
    "    # Write code here\n",
    "    my_set = set()\n",
    "    for lines in file:\n",
    "        clean_lines = lines.strip()\n",
    "        my_set.add(clean_lines)\n",
    "    return my_set # You should return a set\n",
    "\n",
    "positive_file = open('./bing_liu/positive-words.txt', encoding='utf8')\n",
    "positive_words = file_to_set(positive_file) # the function is taking a file handle as input.\n",
    "positive_file.close()\n",
    "#print(len(positive_words))\n",
    "\n",
    "negative_file = open('./bing_liu/negative-words.txt', encoding='iso-8859-1') # If you get a weird read error. Let me know. We can change the encoding.\n",
    "negative_words = file_to_set(negative_file)\n",
    "negative_file.close()\n",
    "#print(len(negative_words))"
   ]
  },
  {
   "cell_type": "markdown",
   "metadata": {},
   "source": [
    "The lines below give example inputs and correct outputs using asserts, and can be run to test the code. Passing these tests is necessary, but **NOT** sufficient to guarantee your implementation is correct. You may add additional test cases, but do not remove any tests."
   ]
  },
  {
   "cell_type": "code",
   "execution_count": 2,
   "metadata": {},
   "outputs": [
    {
     "name": "stdout",
     "output_type": "stream",
     "text": [
      "Asserts finished successfully!\n"
     ]
    }
   ],
   "source": [
    "assert(type(positive_words) == type(set()))\n",
    "assert(type(negative_words) == type(set()))\n",
    "assert(len(positive_words) == 2006)\n",
    "assert(len(negative_words) == 4783)\n",
    "assert(('good' in positive_words)  == True)\n",
    "assert(('bad' in negative_words)  == True)\n",
    "assert(('adaptable' not in negative_words)  == True)\n",
    "assert(('bad' not in positive_words) == True)\n",
    "assert(('abort' not in positive_words) == True)\n",
    "print(\"Asserts finished successfully!\")"
   ]
  },
  {
   "cell_type": "markdown",
   "metadata": {},
   "source": [
    "## Exercise 2\n",
    "\n",
    "For this exercise, you need to write a function that counts the number of words in a sentence that also appear in a set. For example, given the set set(['good', 'great']) and the sentence \"this is good good good\", the function should return 3. The lower parameter should lowercase the input tweet text if it is set to True. Otherwise, it should keep the tweet text as-is.\n",
    "\n",
    "**Hint:** You can check if something is in a set using the following notation:\n",
    "\n",
    "```python\n",
    "mySet = set([\"a\", \"b\", \"c\"])\n",
    "otherList = [\"c\", \"d\"]\n",
    "for letter in otherList:\n",
    "    if letter in mySet:\n",
    "        print(letter)\n",
    "```\n",
    "\n",
    "The above code will print \"c\"."
   ]
  },
  {
   "cell_type": "code",
   "execution_count": 3,
   "metadata": {},
   "outputs": [],
   "source": [
    "def count_sentiment_words(sentiment_set, tweet_text, lower):\n",
    "    \"\"\"\n",
    "    This function takes a set and string as input, then counts the number of words that \n",
    "    appear in the string (tweet_text) that are also in the set (sentiment_set). The\n",
    "    tweet_text should be normalized based on the lower argument (i.e., lowercase if True)\n",
    "    \n",
    "        Parameters:\n",
    "            - sentiment_set set: A set of sentiment words, e.g., {'good', 'great', 'happy'}\n",
    "            - tweet_text string: A tweet, e.g., \"I go to UTSA!!!\"\n",
    "            - lower bool: A True or False boolean value indicating the tweet_text should be lowercased. If False, keep tweet_text as-is.\n",
    "    \"\"\"\n",
    "    # Your code here\n",
    "    cnt_word = 0\n",
    "    if lower == True:\n",
    "        tweet_text = tweet_text.lower().strip()\n",
    "    else:\n",
    "        tweet_text = tweet_text.strip()   \n",
    "    tweet_text = tweet_text.split()\n",
    "    #print(tweet_text)\n",
    "    for words in tweet_text:\n",
    "        if words in sentiment_set:\n",
    "            cnt_word += 1\n",
    "    return cnt_word #You should return a number"
   ]
  },
  {
   "cell_type": "markdown",
   "metadata": {},
   "source": [
    "The lines below give example inputs and correct outputs using asserts, and can be run to test the code. Passing these tests is necessary, but **NOT** sufficient to guarantee your implementation is correct. You may add additional test cases, but do not remove any tests."
   ]
  },
  {
   "cell_type": "code",
   "execution_count": 4,
   "metadata": {},
   "outputs": [
    {
     "name": "stdout",
     "output_type": "stream",
     "text": [
      "Asserts finished successfully!\n"
     ]
    }
   ],
   "source": [
    "assert(count_sentiment_words(positive_words, \"this is a good good good class\", True) == 3)\n",
    "assert(count_sentiment_words(positive_words, \"this is a good\\tgood\\tgood class\", True) == 3)\n",
    "assert(count_sentiment_words(positive_words, \"this is a GOOD GOOD GOOD class\", False) == 0)\n",
    "assert(count_sentiment_words(positive_words, \"this is a GOOD GOOD GOOD class\", True) == 3)\n",
    "assert(count_sentiment_words(positive_words, \"this is a GOOD GOOD good class\", False) == 1)\n",
    "assert(count_sentiment_words(positive_words, \"Python is the best programming language for data science\", True) == 1)\n",
    "assert(count_sentiment_words(negative_words, \"R is bad compared to Python ;)\", True) == 1)\n",
    "print(\"Asserts finished successfully!\")"
   ]
  },
  {
   "cell_type": "markdown",
   "metadata": {},
   "source": [
    "## Exercise 3\n",
    "\n",
    "For this exercise, you will write a function that takes two numbers as input and returns a string. Intuitively, this is a basic classification function for lexicon-based sentiment classification. \n",
    "\n",
    "The function should take as input parameters the the number of positive (num_pos_words) and negative (num_neg_words) words in each tweet to predict sentiment. If the number of positive words is greater than to the number of negative tweets (num_pos_words > num_neg_words), then predict **\"positive\"**. If the number of negative words is greater than the number of positive words (num_neg_words > num_pos_words), then predict **\"negative\"**. If both num_pos_words and num_neg_words are equal (num_neg_words = num_pos_words), predict **\"neutral\"**. This is known as lexicon-based classification.\n",
    "\n",
    "Intuitively, the idea is simple, a tweet with more positive words is generally express \"positive\" sentiment. Likewise, a tweet with more negative words is expressing \"negative\" sentiment."
   ]
  },
  {
   "cell_type": "code",
   "execution_count": 5,
   "metadata": {},
   "outputs": [],
   "source": [
    "def predict(num_pos_words, num_neg_words):\n",
    "    \"\"\"\n",
    "    This function should return the string \"positive\", \"negative\", or \"neutral\" given\n",
    "    the input parameters, i.e., if num_pos_words is greater than num_neg_words, return \"positive\"\n",
    "    \n",
    "        Parameters:\n",
    "            - num_pos_words int: This is a count representing the number of positive words in a tweet.\n",
    "            - num_neg_words int: This is a count representing the number of negative words in a tweet.\n",
    "            \n",
    "        Return:\n",
    "            - Return a string \"positive\", \"negative\", or \"neutral\"\n",
    "    \"\"\"\n",
    "    # Your code here\n",
    "    if num_pos_words > num_neg_words:\n",
    "        prediction = 'positive'\n",
    "    elif num_pos_words < num_neg_words:\n",
    "        prediction = 'negative'\n",
    "    else:\n",
    "        prediction = 'neutral' \n",
    "    return prediction # You should return a string"
   ]
  },
  {
   "cell_type": "markdown",
   "metadata": {},
   "source": [
    "The lines below give example inputs and correct outputs using asserts, and can be run to test the code. Passing these tests is necessary, but **NOT** sufficient to guarantee your implementation is correct. You may add additional test cases, but do not remove any tests."
   ]
  },
  {
   "cell_type": "code",
   "execution_count": 6,
   "metadata": {},
   "outputs": [
    {
     "name": "stdout",
     "output_type": "stream",
     "text": [
      "Assert finished successfully!\n"
     ]
    }
   ],
   "source": [
    "assert(predict(2, 5) == 'negative')\n",
    "assert(predict(5, 2) == 'positive')\n",
    "assert(predict(3, 3) == 'neutral')\n",
    "print(\"Assert finished successfully!\")"
   ]
  },
  {
   "cell_type": "markdown",
   "metadata": {},
   "source": [
    "## Exercise 4\n",
    "\n",
    "This exercise is similar to Exercise 3. However, instead of making a prediction, we should write a function that returns a sentiment score. Specifically, assume num_pos_words is 3 and num_neg_words is 4, the function should return -1. The idea is that the more *positive* the number, the more positive the sentiment. Likewise, the more *negative* the number, the more negative the sentiment."
   ]
  },
  {
   "cell_type": "code",
   "execution_count": 7,
   "metadata": {},
   "outputs": [],
   "source": [
    "def predict_score(num_pos_words, num_neg_words):\n",
    "    \"\"\"\n",
    "    This function should generate a sentiment score num_pos_words - num_neg_words.\n",
    "    \n",
    "        Parameters:\n",
    "            - num_pos_words int: This is a count representing the number of positive words in a tweet.\n",
    "            - num_neg_words int: This is a count representing the number of negative words in a tweet.\n",
    "            \n",
    "        Return:\n",
    "            - Return an integer representing the difference between positive words and negative words.\n",
    "    \"\"\"\n",
    "    # Your code here\n",
    "    sentiment = num_pos_words - num_neg_words\n",
    "    return sentiment # You should return a number"
   ]
  },
  {
   "cell_type": "markdown",
   "metadata": {},
   "source": [
    "The lines below give example inputs and correct outputs using asserts, and can be run to test the code. Passing these tests is necessary, but **NOT** sufficient to guarantee your implementation is correct. You may add additional test cases, but do not remove any tests."
   ]
  },
  {
   "cell_type": "code",
   "execution_count": 8,
   "metadata": {},
   "outputs": [
    {
     "name": "stdout",
     "output_type": "stream",
     "text": [
      "Asserts finished successfully!\n"
     ]
    }
   ],
   "source": [
    "assert(predict_score(3, 1) == 2)\n",
    "assert(predict_score(2, 2) == 0)\n",
    "assert(predict_score(2, 5) == -3)\n",
    "assert(predict_score(10, 5) == 5)\n",
    "assert(predict_score(2, 1) == 1)\n",
    "print(\"Asserts finished successfully!\")"
   ]
  },
  {
   "cell_type": "markdown",
   "metadata": {},
   "source": [
    "## Exercise 5 \n",
    "\n",
    "Write a function that takes a json string as input and returns a Python object. Hint: This can be one line. You can use the json library."
   ]
  },
  {
   "cell_type": "code",
   "execution_count": 9,
   "metadata": {},
   "outputs": [],
   "source": [
    "import json\n",
    "\n",
    "def json_string_to_dictionary(json_string):\n",
    "    \"\"\"\n",
    "    This function should take a json string and convert it into a Python object (hint: loads)\n",
    "    \n",
    "        Parameters:\n",
    "            - json_string str: A json string, e.g., '{\"a\": 1}'\n",
    "            \n",
    "        Returns:\n",
    "            - Return a python object, e.g., {\"a\": 1} <--- look no quotes, so this is a dictionary\n",
    "    \"\"\"\n",
    "    # Your code here\n",
    "    pyobj = json.loads(json_string.strip())\n",
    "    return pyobj"
   ]
  },
  {
   "cell_type": "markdown",
   "metadata": {},
   "source": [
    "The lines below give example inputs and correct outputs using asserts, and can be run to test the code. Passing these tests is necessary, but **NOT** sufficient to guarantee your implementation is correct. You may add additional test cases, but do not remove any tests."
   ]
  },
  {
   "cell_type": "code",
   "execution_count": 10,
   "metadata": {},
   "outputs": [
    {
     "name": "stdout",
     "output_type": "stream",
     "text": [
      "Assert finished successfully!\n"
     ]
    }
   ],
   "source": [
    "data = json_string_to_dictionary('{\"a\": 1}')\n",
    "assert(data == {'a': 1})\n",
    "data = json_string_to_dictionary('[1,2,3]')\n",
    "assert(data == [1,2,3])\n",
    "print(\"Assert finished successfully!\")"
   ]
  },
  {
   "cell_type": "markdown",
   "metadata": {},
   "source": [
    "## Exercise 6\n",
    "\n",
    "For this task, we combine the functions written for the previous exercises to classify all of the tweets in a real Twitter dataset. You should write code that does the following:\n",
    "1. Keeps track of the number of tweets\n",
    "2. Keeps track of the number of positive and negative tweets\n",
    "3. Keeps track of the user that tweets the most\n",
    "4. Keeps track of the total number of unique users\n",
    "5. Keeps track of the average number of tweets per user (how many tweets does each user make, on average)\n",
    "6. Keeps track of the most positive and negative tweets.\n",
    "\n",
    "Note: This task depends on Exercises 1 through 5. You will need to complete them first. Also, do **not** store all of the tweets in a list.  This will use too much memory because of the size of the dataset. It is okay to store all of the user's screen names.\n",
    "\n",
    "Finally, the dataset is big! So, I recommend working on a subset of the dataset to make sure your code works, i.e., you could \"break\" after the first 100 lines.\n",
    "\n"
   ]
  },
  {
   "cell_type": "code",
   "execution_count": 16,
   "metadata": {},
   "outputs": [],
   "source": [
    "import pprint\n",
    "import json\n",
    "\n",
    "total_number_of_tweets = 0\n",
    "total_number_of_positive_tweets = 0\n",
    "total_number_of_negative_tweets = 0\n",
    "most_positive_tweet = ''\n",
    "most_negative_tweet = ''\n",
    "user_with_most_tweets = ''\n",
    "average_number_tweets_per_user = 0\n",
    "total_number_of_users = 0\n",
    "\n",
    "# NOTE: You may need to define extra variables to help generate the required output.\n",
    "user = dict()\n",
    "maxTweets = 0\n",
    "userSentiment = dict()\n",
    "maxSentiment = 0\n",
    "minSentiment = 0\n",
    "\n",
    "#n = 100\n",
    "#with open('puerto-rico.jsonl', 'r') as twitter_dataset:\n",
    "#   head = [next(twitter_dataset) for x in range(n)]\n",
    "\n",
    "twitter_dataset = open('puerto-rico.jsonl', 'r')\n",
    "\n",
    "#for row in head:\n",
    "for row in twitter_dataset:\n",
    "    tweet_dict = json_string_to_dictionary(row)\n",
    "    \n",
    "#   1. Keep track of the number of tweets\n",
    "    total_number_of_tweets += 1\n",
    "    ###############################\n",
    "    \n",
    "    tweet_text = tweet_dict['full_text'] # MODIFY THIS LINE TO GET THE \"full_text\" from the tweet_dict\n",
    "    screen_name = tweet_dict['user']['screen_name'] # MODIFY THIS LINE TO GET THE \"screen_name\" from the tweet_dict\n",
    "    \n",
    "    ###############################\n",
    "    num_pos_words = count_sentiment_words(positive_words, tweet_text, True)\n",
    "    num_neg_words = count_sentiment_words(negative_words, tweet_text, True)\n",
    "    \n",
    "    sentiment_prediction = predict(num_pos_words, num_neg_words)\n",
    "    sentiment_score = predict_score(num_pos_words, num_neg_words)\n",
    "    \n",
    "    ################################\n",
    "#   2. Keep track of the number of positive and negative tweets\n",
    "    if sentiment_prediction == 'positive':\n",
    "        total_number_of_positive_tweets += 1\n",
    "    elif sentiment_prediction == 'negative':\n",
    "        total_number_of_negative_tweets += 1\n",
    "        \n",
    "    user[screen_name] = user.get(screen_name, 0) + 1  \n",
    "    userSentiment[tweet_text] = userSentiment.get(tweet_text, float(sentiment_score)) \n",
    "        \n",
    "    ################################ \n",
    "#   3. Keep track of the user that tweet the most\n",
    "for i, j in user.items():\n",
    "    if j > maxTweets:\n",
    "        maxTweets = j\n",
    "        user_with_most_tweets = i\n",
    "        \n",
    "    ################################\n",
    "#  4. Keep track of the total number of unique users\n",
    "total_number_of_users = len(user)\n",
    "\n",
    "#  5. Keep track of the average number of tweets per user (how many tweets does each user make, on average)\n",
    "average_number_tweets_per_user = total_number_of_tweets / total_number_of_users \n",
    "\n",
    "    ################################ \n",
    "#   6. Keep track of the most positive and negative tweets.    \n",
    "for k, l in userSentiment.items():\n",
    "    if l < minSentiment:\n",
    "        minSentiment = l\n",
    "        most_negative_tweet = k\n",
    "    elif l > maxSentiment:\n",
    "        maxSentiment = l\n",
    "        most_positive_tweet = k\n",
    "\n",
    "\n",
    "\n",
    "    ################################\n",
    "twitter_dataset.close()"
   ]
  },
  {
   "cell_type": "code",
   "execution_count": 17,
   "metadata": {},
   "outputs": [
    {
     "name": "stdout",
     "output_type": "stream",
     "text": [
      "Total Number of Tweets: 737153\n",
      "Total Number of Positive Tweets: 178205\n",
      "Total Number of Negative Tweets: 163502\n",
      "\n",
      "Most Positive Tweet\n",
      "@thechew @JoAnnaLGarcia @KevinProbably Such amazing #'s of precious people fed in #PuertoRico by delicious, heartfelt work of @chefjoseandres &amp; friends. Also, top efforts by talented chefs towards precious people in #winecountryfires area. #northbayfires  Wish you'd have reported on it more. #SF #SonomaStrong\n",
      "\n",
      "Most Negative Tweet\n",
      "@realDonaldTrump LIAR LIAR LIAR LIAR LIAR LIAR LIAR LIAR LIAR LIAR LIAR LIAR LIAR LIAR LIAR LIAR LIAR LIAR LIAR LIAR LIAR LIAR #PuertoRico #PresidentLoco\n",
      "\n",
      "Total Number of Users: 286975\n",
      "Average Number of Tweets per User: 2.5687011063681506\n",
      "User with the most tweets: Noti_PuertoRico\n"
     ]
    }
   ],
   "source": [
    "print(\"Total Number of Tweets: {}\".format(total_number_of_tweets))\n",
    "print(\"Total Number of Positive Tweets: {}\".format(total_number_of_positive_tweets))\n",
    "print(\"Total Number of Negative Tweets: {}\\n\".format(total_number_of_negative_tweets))\n",
    "\n",
    "print(\"Most Positive Tweet\")\n",
    "print(most_positive_tweet)\n",
    "print()\n",
    "\n",
    "print(\"Most Negative Tweet\")\n",
    "print(most_negative_tweet)\n",
    "print()\n",
    "\n",
    "print(\"Total Number of Users: {}\".format(total_number_of_users))\n",
    "print(\"Average Number of Tweets per User: {}\".format(average_number_tweets_per_user))\n",
    "print(\"User with the most tweets: {}\".format(user_with_most_tweets))"
   ]
  },
  {
   "cell_type": "markdown",
   "metadata": {},
   "source": [
    "The lines below give example inputs and correct outputs using asserts, and can be run to test the code. Passing these tests is necessary, but **NOT** sufficient to guarantee your implementation is correct. You may add additional test cases, but do not remove any tests."
   ]
  },
  {
   "cell_type": "code",
   "execution_count": 18,
   "metadata": {},
   "outputs": [
    {
     "name": "stdout",
     "output_type": "stream",
     "text": [
      "Assert finished successfully!\n"
     ]
    }
   ],
   "source": [
    "assert(isinstance(total_number_of_tweets, int) or isinstance(total_number_of_tweets, float))\n",
    "assert(isinstance(total_number_of_positive_tweets, int) or isinstance(total_number_of_positive_tweets, float))\n",
    "assert(isinstance(total_number_of_negative_tweets, int) or isinstance(total_number_of_negative_tweets, float))\n",
    "assert(isinstance(most_positive_tweet, str))\n",
    "assert(isinstance(most_negative_tweet, str))\n",
    "assert(isinstance(user_with_most_tweets, str))\n",
    "assert(total_number_of_tweets == 737153)\n",
    "#assert(total_number_of_tweets == 100)\n",
    "print(\"Assert finished successfully!\")"
   ]
  },
  {
   "cell_type": "markdown",
   "metadata": {},
   "source": [
    "## Exercise 7\n",
    "\n",
    "For this exercise, you will perform manual analysis of the predictions. Modify the code to load the tweet text, then answer the questions below."
   ]
  },
  {
   "cell_type": "code",
   "execution_count": 19,
   "metadata": {},
   "outputs": [
    {
     "name": "stdout",
     "output_type": "stream",
     "text": [
      "Tweet 1: RT @TheSWPrincess: @bri_sacks To find out how to help, visit the site below. Virgin Islanders are not getting the media attention that #Pue…\n",
      "Tweet 1 Prediction: neutral\n",
      "\n",
      "Tweet 2: I have yet to be able to express my thoughts without expletives about @realDonaldTrump + Hurricane Maria recovery #PuertoRico\n",
      "Tweet 2 Prediction: positive\n",
      "\n",
      "Tweet 3: RT @TalbertSwan: @TaIbertSwan @realDonaldTrump “Sire, the people don’t have power, food, or water!” \n",
      "\n",
      "#Trump: “Let them eat paper towels!”…\n",
      "Tweet 3 Prediction: neutral\n",
      "\n",
      "Tweet 4: RT @NYPDSpecialops: #NYPD ESU K9 “Harley” &amp; “Nash” deployed as part @fema NY-TF1 have been hard at work assisting in the #PuertoRico rescue…\n",
      "Tweet 4 Prediction: neutral\n",
      "\n",
      "Tweet 5: RT @StarrMSS: .@elvisduran gave 30K to @Bethenny to charter  plane to bring supplies to #PuertoRico #HurricaneMaria. He also gave 100K to @…\n",
      "Tweet 5 Prediction: neutral\n",
      "\n",
      "Tweet 6: RT @ericbolling: When will @realDonaldTrump catch a break from fake news outrage? Very unfair slams over #PuertoRico visit.\n",
      "Tweet 6 Prediction: negative\n",
      "\n",
      "Tweet 7: FCC approves up to $77 million to restore communications after hurricane https://t.co/hn0WqJiE9T #WonkAmerica https://t.co/m6P6RvDkZi\n",
      "Tweet 7 Prediction: neutral\n",
      "\n",
      "Tweet 8: \"@daddy_yankee,#PuertoRico native,to #Donate $250,000 to #Habitat &amp; raise $1.5+ #Million!\"❤\n",
      "\n",
      "https://t.co/32kjy93dNZ\n",
      "https://t.co/15bza8gjW0\n",
      "Tweet 8 Prediction: neutral\n",
      "\n",
      "Tweet 9: RT @ericbolling: When will @realDonaldTrump catch a break from fake news outrage? Very unfair slams over #PuertoRico visit.\n",
      "Tweet 9 Prediction: negative\n",
      "\n",
      "Tweet 10: RT @chefjoseandres: Forget politics forget pundits. What I have seen in #PuertoRico is people coming together, sacrificing 2 serve. This is…\n",
      "Tweet 10 Prediction: neutral\n",
      "\n",
      "Tweet 11: RT @mercycorps: Our neighbors in #PuertoRico are resilient, but they need our help to recover + rebuild. We invite you to join us.\n",
      "\n",
      "https:/…\n",
      "Tweet 11 Prediction: positive\n",
      "\n",
      "Tweet 12: RT @StopTrump2020: At least 34 dead - #Trump blames #PuertoRico for #FEMA not having enough money.  #SAD! https://t.co/DHuW7xGlOY\n",
      "Tweet 12 Prediction: neutral\n",
      "\n",
      "Tweet 13: RT @SamaritansPurse: With your support, our disaster response team continues to bring emergency relief to families in #PuertoRico. https://…\n",
      "Tweet 13 Prediction: negative\n",
      "\n",
      "Tweet 14: RT @usairforce: 4 @USARMY Pave Hawks, 4 pallets of search &amp; rescue gear, 1 ATV and 39 search &amp; rescue passengers aboard a C5 headed to #Pue…\n",
      "Tweet 14 Prediction: neutral\n",
      "\n",
      "Tweet 15: RT @RoseAnnDeMoro: RNRN and @AFLCIO send 300+ volunteers to #PuertoRico: union nurses, construction and transportation workers fly out toda…\n",
      "Tweet 15 Prediction: neutral\n",
      "\n",
      "Tweet 16: RT @daddy_yankee: I know the reconstruction of my home island will requiere long-term solutions. - go to the link and help me raise more mo…\n",
      "Tweet 16 Prediction: neutral\n",
      "\n",
      "Tweet 17: RT @Jenniffer2012: Thanks from my heart to @FLOTUS for your caring and your commitment to help. #PuertoRico 🇺🇸🇵🇷 https://t.co/p8fkXfKbXd\n",
      "Tweet 17 Prediction: positive\n",
      "\n",
      "Tweet 18: RT @RichardMadan: Here is President Trump tossing paper towels at hurricane victims in #PuertoRico https://t.co/JjLMRNFcAt\n",
      "Tweet 18 Prediction: positive\n",
      "\n",
      "Tweet 19: RT @JimmyPatronis: I’m deploying law enforcement assets to join @fdlepio, @FLHSMV and @MyFWC to help in #PuertoRico after #Maria: https://t…\n",
      "Tweet 19 Prediction: neutral\n",
      "\n",
      "Tweet 20: RT @ExDemLatina: .@CarmenYulinCruz is a Lying policial Corrupt hack! \n",
      "She has time to make another shirt for media rounds. #PuertoRico #San…\n",
      "Tweet 20 Prediction: negative\n",
      "\n"
     ]
    }
   ],
   "source": [
    "import json\n",
    "twitter_dataset = open('puerto-rico.jsonl', 'r')\n",
    "\n",
    "num_tweets_to_print = 20\n",
    "\n",
    "num_tweets = 0\n",
    "\n",
    "for row in twitter_dataset:\n",
    "    num_tweets += 1\n",
    "    tweet_dict = json_string_to_dictionary(row)\n",
    "    \n",
    "    ###############################\n",
    "    # YOUR CODE HERE\n",
    "    tweet_text = tweet_dict['full_text'] # MODIFY THIS LINE TO GET THE \"full_text\" from the tweet_dict    \n",
    "    ###############################\n",
    "    \n",
    "    num_pos_words = count_sentiment_words(positive_words, tweet_text, True)\n",
    "    num_neg_words = count_sentiment_words(negative_words, tweet_text, True)\n",
    "    \n",
    "    sentiment_prediction = predict(num_pos_words, num_neg_words)\n",
    "    \n",
    "    print(\"Tweet {}: {}\".format(num_tweets, tweet_text))\n",
    "    print(\"Tweet {} Prediction: {}\".format(num_tweets, sentiment_prediction))\n",
    "    print()\n",
    "    \n",
    "    if num_tweets == num_tweets_to_print:\n",
    "        break\n",
    "    \n",
    "twitter_dataset.close()"
   ]
  },
  {
   "cell_type": "markdown",
   "metadata": {},
   "source": [
    "Complete the following tasks:\n",
    " \n",
    "- Manually annotate all of the tweets printed above. This is your interpretation. We want to understand how accurate the predictions are at the tweet-level:\n",
    "   1. Tweet 1 Annotation Here: Jerris Annotation - neutral\n",
    "   1. Tweet 2 Annotation Here: Jerris Annotation - negative\n",
    "   1. Tweet 3 Annotation Here: Jerris Annotation - negative\n",
    "   1. Tweet 4 Annotation Here: Jerris Annotation - positive\n",
    "   1. Tweet 5 Annotation Here: Jerris Annotation - positive\n",
    "   1. Tweet 6 Annotation Here: Jerris Annotation - positive\n",
    "   1. Tweet 7 Annotation Here: Jerris Annotation - neutral\n",
    "   1. Tweet 8 Annotation Here: Jerris Annotation - neutral\n",
    "   1. Tweet 9 Annotation Here: Jerris Annotation - positive\n",
    "   1. Tweet 10 Annotation Here: Jerris Annotation - positive\n",
    "   1. Tweet 11 Annotation Here: Jerris Annotation - positive\n",
    "   1. Tweet 12 Annotation Here: Jerris Annotation - negative\n",
    "   1. Tweet 13 Annotation Here: Jerris Annotation - neutral\n",
    "   1. Tweet 14 Annotation Here: Jerris Annotation - neutral\n",
    "   1. Tweet 15 Annotation Here: Jerris Annotation - neutral\n",
    "   1. Tweet 16 Annotation Here: Jerris Annotation - positive\n",
    "   1. Tweet 17 Annotation Here: Jerris Annotation - positive\n",
    "   1. Tweet 18 Annotation Here: Jerris Annotation - neutral\n",
    "   1. Tweet 19 Annotation Here: Jerris Annotation - neutral\n",
    "   1. Tweet 20 Annotation Here: Jerris Annotation - negative\n",
    "\n",
    "- How many of the predictions are right or wrong compared to your annotations?\n",
    "    - Right:9 Wrong:11\n",
    "    \n",
    "- Do you see any major limitations of lexicon-based classificaiton (i.e., making sentiment predictions using individual words)? Use your intuition, I will accept most answers, as long as it makes some sense. Please describe and provide examples below:\n",
    "\n",
    "I think given the ratio of Right to Wrong shown above we can see that if we go down this route we don't seem to be capturing the entire sentiment. There were statements which were ambiguous and there needed to be more context. This method is therefore far more inaccurate."
   ]
  },
  {
   "cell_type": "markdown",
   "metadata": {
    "jp-MarkdownHeadingCollapsed": true,
    "tags": []
   },
   "source": [
    "## Extra Credit\n",
    "\n",
    "For this exercise, you should use a different dataset (email me if you want me to share a dataset with your directly, or you can use your own---see below for dataset resources) and analyze it with a different (non-sentiment) lexicon. You can complete the same analysis as above, or do something different as long as you make use of a new lexicon and a new dataset. Notice some lexicons only have one class, or more than 2 classes. The processing will be slightly different. Feel free to ask how this can be done via Slack.\n",
    "\n",
    "Possible lexicons:\n",
    "- Hate speech and offensive language lexicons:\n",
    "    - https://github.com/steve050798/hate-speech-and-offensive-language/raw/master/lexicons/hatebase_dict.csv\n",
    "    - https://www.cs.cmu.edu/~biglou/resources/bad-words.txt\n",
    "- Emotion Lexicon:\n",
    "    - https://saifmohammad.com/WebPages/NRC-Emotion-Lexicon.htm#:~:text=The%20NRC%20Emotion%20Lexicon%20is,were%20manually%20done%20by%20crowdsourcing.\n",
    "        - Note that this lexicon has more than two classes. Message me for discussion about how to handle this.\n",
    "        \n",
    "You may use one of the lexicons above or another non-sentiment lexicon of your choice. I may allow another sentiment lexicon if the new analysis is interesting; however, email me before doing this. An example would be using a Spanish sentiment lexicon to analyze Spanish text, or doing a different analysis than the one abouve (e.g., anayzing sentiment over time).\n",
    "\n",
    "Where to look for new data?\n",
    "- https://www.kaggle.com\n",
    "- https://www.docnow.io/catalog/ (Some datasets contain the text, not just tweet ids). If you have something specific you want, I can grab it for you using my developer account.\n",
    "- Google :). You do not need to use tweets.\n",
    "\n",
    "You can pull new data from Twitter, but you will need to create a developer account. The easiest way to pull new data is via the use of Twarc (https://github.com/DocNow/twarc).\n",
    "\n",
    "Finally, when you submit, I don't need to have your data, just make sure to provide a couple of examples, a link to the data (if available), and make sure all of the output of your code is printed with the output so I can analyze it."
   ]
  },
  {
   "cell_type": "markdown",
   "metadata": {},
   "source": [
    "## Extra Credit Data Source\n",
    "\n",
    "Phillips, Mark Edward. \"Stand With Wendy\" Twitter Dataset, dataset, 2013-06-25/2013-07-03; (https://digital.library.unt.edu/ark:/67531/metadc228268/: accessed March 20, 2022), University of North Texas Libraries, UNT Digital Library, https://digital.library.unt.edu; .\n",
    "\n",
    "https://digital.library.unt.edu/ark:/67531/metadc228268/?q=%23standwithwendy"
   ]
  },
  {
   "cell_type": "code",
   "execution_count": 20,
   "metadata": {},
   "outputs": [],
   "source": [
    "# Write and document your code here\n",
    "import pprint\n",
    "import json\n",
    "\n",
    "def new_file_to_set(file):\n",
    "    new_set = set()\n",
    "    for line in file:\n",
    "        lines = line.strip()\n",
    "        new_set.add(lines)\n",
    "    return new_set # You should return a set\n",
    "\n",
    "bad_file = open('./badwords.txt', encoding='utf8')\n",
    "bad_words = new_file_to_set(bad_file) # the function is taking a file handle as input.\n",
    "bad_file.close()\n",
    "assert(('addicts' in bad_words) == True)\n",
    "assert(('addi' not in bad_words) == True)\n",
    "#print(\"Asserts finished successfully: 1\")"
   ]
  },
  {
   "cell_type": "code",
   "execution_count": 21,
   "metadata": {},
   "outputs": [],
   "source": [
    "def count_bad_words(bad_set, tweet_word, lowercase):\n",
    "    # Your code here\n",
    "    cnt_bad = 0\n",
    "    if lowercase == True:\n",
    "        tweet_word = tweet_word.lower().strip()\n",
    "    else:\n",
    "        tweet_word = tweet_word.strip()   \n",
    "    tweet_word = tweet_word.split()\n",
    "    for words in tweet_word:\n",
    "        if words in bad_set:\n",
    "            cnt_bad += 1\n",
    "            #print(words)\n",
    "    return cnt_bad #You should return a number\n",
    "assert(count_bad_words(bad_words, \"the sniper trots as he looks for a beast\", True) == 3)\n",
    "#print(count_bad_words(bad_words, 'RT @rickygervais: Whatever the outcome, @WendyDavisTexas efforts entered her into the pantheon of American heroes tonight', True))\n",
    "#print(\"Asserts finished successfully: 2\")"
   ]
  },
  {
   "cell_type": "code",
   "execution_count": 22,
   "metadata": {},
   "outputs": [],
   "source": [
    "def predicts(num_bad_words):\n",
    "    if num_bad_words > 0:\n",
    "        predictions = 'profanity'\n",
    "    else:\n",
    "        predictions = 'ok' \n",
    "    return predictions # You should return a string\n",
    "assert(predicts(2) == 'profanity')\n",
    "assert(predicts(0) == 'ok')\n",
    "assert(predicts(3) == 'profanity')\n",
    "#print(\"Asserts finished successfully: 3\")"
   ]
  },
  {
   "cell_type": "code",
   "execution_count": 23,
   "metadata": {},
   "outputs": [],
   "source": [
    "def profanity_score(num_bad_words):\n",
    "    score = num_bad_words\n",
    "    return score # You should return a number\n",
    "assert(profanity_score(3) == 3)\n",
    "#print(\"Asserts finished successfully: 4\")"
   ]
  },
  {
   "cell_type": "code",
   "execution_count": 24,
   "metadata": {},
   "outputs": [],
   "source": [
    "def json_string_to_dict(json_strings):\n",
    "    obj = json.loads(json_strings.strip())\n",
    "    return obj\n",
    "data2 = json_string_to_dict('{\"a\": 1}')\n",
    "assert(data2 == {'a': 1})\n",
    "#print(\"Asserts finished successfully: 5\")"
   ]
  },
  {
   "cell_type": "code",
   "execution_count": 25,
   "metadata": {},
   "outputs": [
    {
     "name": "stdout",
     "output_type": "stream",
     "text": [
      "Total Number of Tweets: 210805\n",
      "Total Number of Profain Tweets: 34816\n",
      "\n",
      "Total Number of Users: 88019\n",
      "Average Number of Tweets per User: 2.394994262602393\n",
      "User with the most tweets: Audnumber\n",
      "\n",
      "Most Profain Tweet\n",
      "SHIT SHIT SHIT SHIT SHIT SHIT #StandWithWendy\n",
      "\n",
      "Most Profain Tweet's User:  mostlymartha\n",
      "\n"
     ]
    }
   ],
   "source": [
    "total_num_of_tweets = 0\n",
    "total_num_of_profain_tweets = 0\n",
    "most_profain_tweet = ''\n",
    "user_most_tweets = ''\n",
    "average_num_tweets_per_user = 0\n",
    "total_num_of_users = 0\n",
    "user_sn = dict()\n",
    "profaintweetscore = dict()\n",
    "most_profain_user = ''\n",
    "userScore = dict()\n",
    "tweets_screenname = dict()\n",
    "maxTweet = 0\n",
    "maxScore = 0\n",
    "\n",
    "wendy_dataset = open('#standwithwendy.json', 'r')\n",
    "for i in wendy_dataset:\n",
    "    wendy_dict = json_string_to_dict(i)\n",
    "    total_num_of_tweets += 1\n",
    "    ###############################\n",
    "    tweet_word = wendy_dict['text']\n",
    "    screen_n = wendy_dict['user']['screen_name']\n",
    "    \n",
    "    ###############################\n",
    "    num_bad_words = count_bad_words(bad_words, tweet_word, True)\n",
    "    \n",
    "    predictions = predicts(num_bad_words)\n",
    "    score = profanity_score(num_bad_words)\n",
    "    \n",
    "    ################################\n",
    "    if  predictions == 'profanity':\n",
    "        total_num_of_profain_tweets += 1\n",
    "    ################################\n",
    "    user_sn[screen_n] = user_sn.get(screen_n, 0) + 1  \n",
    "    userScore[tweet_word] = userScore.get(tweet_word, float(score)) \n",
    "    tweets_screenname[tweet_word] = screen_n\n",
    "    \n",
    "    if num_bad_words > 0:\n",
    "        if screen_n in profaintweetscore:\n",
    "            if num_bad_words > profaintweetscore[screen_n]:\n",
    "                profaintweetscore[screen_n] += num_bad_words\n",
    "        else:\n",
    "            profaintweetscore[screen_n] = num_bad_words\n",
    "            \n",
    "    ################################ \n",
    "\n",
    "for i, j in user_sn.items():\n",
    "    if j > maxTweet:\n",
    "        maxTweet = j\n",
    "        user_most_tweets = i\n",
    "total_num_of_users = len(user_sn)\n",
    "average_num_tweets_per_user = total_num_of_tweets / total_num_of_users \n",
    "\n",
    "    \n",
    "for k, l in userScore.items():\n",
    "    if l > maxScore:\n",
    "        maxScore = l\n",
    "        most_profain_tweet = k\n",
    "        \n",
    "most_profain_user =  tweets_screenname[most_profain_tweet]     \n",
    "        \n",
    "\n",
    "    ################################\n",
    "wendy_dataset.close()\n",
    "print(\"Total Number of Tweets: {}\".format(total_num_of_tweets))\n",
    "print(\"Total Number of Profain Tweets: {}\\n\".format(total_num_of_profain_tweets))\n",
    "\n",
    "print(\"Total Number of Users: {}\".format(total_num_of_users))\n",
    "print(\"Average Number of Tweets per User: {}\".format(average_num_tweets_per_user))\n",
    "print(\"User with the most tweets: {}\".format(user_most_tweets))\n",
    "print()\n",
    "\n",
    "print(\"Most Profain Tweet\")\n",
    "print(most_profain_tweet)\n",
    "print()\n",
    "\n",
    "print(\"Most Profain Tweet's User: \", most_profain_user)\n",
    "print()\n",
    "assert(isinstance(total_num_of_tweets, int) or isinstance(total_num_of_tweets, float))\n",
    "#print(\"Assert finished successfully: 6\")"
   ]
  }
 ],
 "metadata": {
  "kernelspec": {
   "display_name": "Python 3 (ipykernel)",
   "language": "python",
   "name": "python3"
  },
  "language_info": {
   "codemirror_mode": {
    "name": "ipython",
    "version": 3
   },
   "file_extension": ".py",
   "mimetype": "text/x-python",
   "name": "python",
   "nbconvert_exporter": "python",
   "pygments_lexer": "ipython3",
   "version": "3.9.7"
  }
 },
 "nbformat": 4,
 "nbformat_minor": 4
}
